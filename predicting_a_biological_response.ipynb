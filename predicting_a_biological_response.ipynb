{
 "cells": [
  {
   "cell_type": "markdown",
   "metadata": {},
   "source": [
    "# Подготовка данных"
   ]
  },
  {
   "cell_type": "code",
   "execution_count": 11,
   "metadata": {},
   "outputs": [],
   "source": [
    "# Импортируем основные модули и функции\n",
    "import pandas as pd\n",
    "import numpy as np\n",
    "from sklearn import linear_model\n",
    "from sklearn import ensemble\n",
    "from sklearn import metrics\n",
    "from sklearn.model_selection import train_test_split\n",
    "\n",
    "# Игнорируем возможные предупреждения в силу ограничений на количество итераций для моделей\n",
    "import warnings\n",
    "warnings.filterwarnings('ignore', category=Warning)"
   ]
  },
  {
   "cell_type": "code",
   "execution_count": 12,
   "metadata": {},
   "outputs": [
    {
     "data": {
      "text/html": [
       "<div>\n",
       "<style scoped>\n",
       "    .dataframe tbody tr th:only-of-type {\n",
       "        vertical-align: middle;\n",
       "    }\n",
       "\n",
       "    .dataframe tbody tr th {\n",
       "        vertical-align: top;\n",
       "    }\n",
       "\n",
       "    .dataframe thead th {\n",
       "        text-align: right;\n",
       "    }\n",
       "</style>\n",
       "<table border=\"1\" class=\"dataframe\">\n",
       "  <thead>\n",
       "    <tr style=\"text-align: right;\">\n",
       "      <th></th>\n",
       "      <th>Activity</th>\n",
       "      <th>D1</th>\n",
       "      <th>D2</th>\n",
       "      <th>D3</th>\n",
       "      <th>D4</th>\n",
       "      <th>D5</th>\n",
       "      <th>D6</th>\n",
       "      <th>D7</th>\n",
       "      <th>D8</th>\n",
       "      <th>D9</th>\n",
       "      <th>...</th>\n",
       "      <th>D1767</th>\n",
       "      <th>D1768</th>\n",
       "      <th>D1769</th>\n",
       "      <th>D1770</th>\n",
       "      <th>D1771</th>\n",
       "      <th>D1772</th>\n",
       "      <th>D1773</th>\n",
       "      <th>D1774</th>\n",
       "      <th>D1775</th>\n",
       "      <th>D1776</th>\n",
       "    </tr>\n",
       "  </thead>\n",
       "  <tbody>\n",
       "    <tr>\n",
       "      <th>0</th>\n",
       "      <td>1</td>\n",
       "      <td>0.000000</td>\n",
       "      <td>0.497009</td>\n",
       "      <td>0.10</td>\n",
       "      <td>0.0</td>\n",
       "      <td>0.132956</td>\n",
       "      <td>0.678031</td>\n",
       "      <td>0.273166</td>\n",
       "      <td>0.585445</td>\n",
       "      <td>0.743663</td>\n",
       "      <td>...</td>\n",
       "      <td>0</td>\n",
       "      <td>0</td>\n",
       "      <td>0</td>\n",
       "      <td>0</td>\n",
       "      <td>0</td>\n",
       "      <td>0</td>\n",
       "      <td>0</td>\n",
       "      <td>0</td>\n",
       "      <td>0</td>\n",
       "      <td>0</td>\n",
       "    </tr>\n",
       "    <tr>\n",
       "      <th>1</th>\n",
       "      <td>1</td>\n",
       "      <td>0.366667</td>\n",
       "      <td>0.606291</td>\n",
       "      <td>0.05</td>\n",
       "      <td>0.0</td>\n",
       "      <td>0.111209</td>\n",
       "      <td>0.803455</td>\n",
       "      <td>0.106105</td>\n",
       "      <td>0.411754</td>\n",
       "      <td>0.836582</td>\n",
       "      <td>...</td>\n",
       "      <td>1</td>\n",
       "      <td>1</td>\n",
       "      <td>1</td>\n",
       "      <td>1</td>\n",
       "      <td>0</td>\n",
       "      <td>1</td>\n",
       "      <td>0</td>\n",
       "      <td>0</td>\n",
       "      <td>1</td>\n",
       "      <td>0</td>\n",
       "    </tr>\n",
       "    <tr>\n",
       "      <th>2</th>\n",
       "      <td>1</td>\n",
       "      <td>0.033300</td>\n",
       "      <td>0.480124</td>\n",
       "      <td>0.00</td>\n",
       "      <td>0.0</td>\n",
       "      <td>0.209791</td>\n",
       "      <td>0.610350</td>\n",
       "      <td>0.356453</td>\n",
       "      <td>0.517720</td>\n",
       "      <td>0.679051</td>\n",
       "      <td>...</td>\n",
       "      <td>0</td>\n",
       "      <td>0</td>\n",
       "      <td>0</td>\n",
       "      <td>0</td>\n",
       "      <td>0</td>\n",
       "      <td>0</td>\n",
       "      <td>0</td>\n",
       "      <td>0</td>\n",
       "      <td>0</td>\n",
       "      <td>0</td>\n",
       "    </tr>\n",
       "    <tr>\n",
       "      <th>3</th>\n",
       "      <td>1</td>\n",
       "      <td>0.000000</td>\n",
       "      <td>0.538825</td>\n",
       "      <td>0.00</td>\n",
       "      <td>0.5</td>\n",
       "      <td>0.196344</td>\n",
       "      <td>0.724230</td>\n",
       "      <td>0.235606</td>\n",
       "      <td>0.288764</td>\n",
       "      <td>0.805110</td>\n",
       "      <td>...</td>\n",
       "      <td>0</td>\n",
       "      <td>0</td>\n",
       "      <td>0</td>\n",
       "      <td>0</td>\n",
       "      <td>0</td>\n",
       "      <td>0</td>\n",
       "      <td>0</td>\n",
       "      <td>0</td>\n",
       "      <td>0</td>\n",
       "      <td>0</td>\n",
       "    </tr>\n",
       "    <tr>\n",
       "      <th>4</th>\n",
       "      <td>0</td>\n",
       "      <td>0.100000</td>\n",
       "      <td>0.517794</td>\n",
       "      <td>0.00</td>\n",
       "      <td>0.0</td>\n",
       "      <td>0.494734</td>\n",
       "      <td>0.781422</td>\n",
       "      <td>0.154361</td>\n",
       "      <td>0.303809</td>\n",
       "      <td>0.812646</td>\n",
       "      <td>...</td>\n",
       "      <td>0</td>\n",
       "      <td>0</td>\n",
       "      <td>0</td>\n",
       "      <td>0</td>\n",
       "      <td>0</td>\n",
       "      <td>0</td>\n",
       "      <td>0</td>\n",
       "      <td>0</td>\n",
       "      <td>0</td>\n",
       "      <td>0</td>\n",
       "    </tr>\n",
       "  </tbody>\n",
       "</table>\n",
       "<p>5 rows × 1777 columns</p>\n",
       "</div>"
      ],
      "text/plain": [
       "   Activity        D1        D2    D3   D4        D5        D6        D7  \\\n",
       "0         1  0.000000  0.497009  0.10  0.0  0.132956  0.678031  0.273166   \n",
       "1         1  0.366667  0.606291  0.05  0.0  0.111209  0.803455  0.106105   \n",
       "2         1  0.033300  0.480124  0.00  0.0  0.209791  0.610350  0.356453   \n",
       "3         1  0.000000  0.538825  0.00  0.5  0.196344  0.724230  0.235606   \n",
       "4         0  0.100000  0.517794  0.00  0.0  0.494734  0.781422  0.154361   \n",
       "\n",
       "         D8        D9  ...  D1767  D1768  D1769  D1770  D1771  D1772  D1773  \\\n",
       "0  0.585445  0.743663  ...      0      0      0      0      0      0      0   \n",
       "1  0.411754  0.836582  ...      1      1      1      1      0      1      0   \n",
       "2  0.517720  0.679051  ...      0      0      0      0      0      0      0   \n",
       "3  0.288764  0.805110  ...      0      0      0      0      0      0      0   \n",
       "4  0.303809  0.812646  ...      0      0      0      0      0      0      0   \n",
       "\n",
       "   D1774  D1775  D1776  \n",
       "0      0      0      0  \n",
       "1      0      1      0  \n",
       "2      0      0      0  \n",
       "3      0      0      0  \n",
       "4      0      0      0  \n",
       "\n",
       "[5 rows x 1777 columns]"
      ]
     },
     "execution_count": 12,
     "metadata": {},
     "output_type": "execute_result"
    }
   ],
   "source": [
    "# Читаем данные\n",
    "data = pd.read_csv('data/_train_sem09 (1).csv')\n",
    "data.head()"
   ]
  },
  {
   "cell_type": "code",
   "execution_count": 13,
   "metadata": {},
   "outputs": [],
   "source": [
    "# Разбиваем данные на матрицу наблюдей 'X' и целевой признак 'y'\n",
    "X = data.drop(['Activity'], axis=1)\n",
    "y = data['Activity']"
   ]
  },
  {
   "cell_type": "code",
   "execution_count": 14,
   "metadata": {},
   "outputs": [],
   "source": [
    "# Разбиваем данные на тренировочную и валидационную выборки (в соотношении 70/30)\n",
    "X_train, X_valid, y_train, y_valid = train_test_split(X, y, stratify=y, test_size=0.3, random_state=42)\n",
    "\n",
    "# Повторно разбиваем данные но уже на валидационную и тестовую выборки (в соотношении 50/50)\n",
    "X_valid, X_test, y_valid, y_test = train_test_split(X_valid, y_valid, test_size=0.5, random_state=42)"
   ]
  },
  {
   "cell_type": "code",
   "execution_count": 15,
   "metadata": {},
   "outputs": [
    {
     "name": "stdout",
     "output_type": "stream",
     "text": [
      "Train:\n",
      "Activity\n",
      "1    0.542095\n",
      "0    0.457905\n",
      "Name: proportion, dtype: float64\n",
      "\n",
      "\n",
      "Valid:\n",
      "Activity\n",
      "1    0.536412\n",
      "0    0.463588\n",
      "Name: proportion, dtype: float64\n",
      "\n",
      "\n",
      "Test:\n",
      "Activity\n",
      "1    0.548845\n",
      "0    0.451155\n",
      "Name: proportion, dtype: float64\n"
     ]
    }
   ],
   "source": [
    "# Выводим соотношение категорий целевого признака для каждой выборки \n",
    "print('Train:\\n', y_train.value_counts(normalize=True), sep='')\n",
    "print('\\n')\n",
    "print('Valid:\\n', y_valid.value_counts(normalize=True), sep='')\n",
    "print('\\n')\n",
    "print('Test:\\n', y_test.value_counts(normalize=True), sep='')"
   ]
  },
  {
   "cell_type": "code",
   "execution_count": 16,
   "metadata": {},
   "outputs": [
    {
     "name": "stdout",
     "output_type": "stream",
     "text": [
      "Train shape: (2625, 1776)\n",
      "Valid shape: (563, 1776)\n",
      "Test shape: (563, 1776)\n"
     ]
    }
   ],
   "source": [
    "# Выводим размерности каждой выборки\n",
    "print('Train shape: {}'.format(X_train.shape))\n",
    "print('Valid shape: {}'.format(X_valid.shape))\n",
    "print('Test shape: {}'.format(X_test.shape))"
   ]
  },
  {
   "cell_type": "code",
   "execution_count": 17,
   "metadata": {},
   "outputs": [
    {
     "name": "stdout",
     "output_type": "stream",
     "text": [
      "F1-score на тестовой выборке: 0.76\n"
     ]
    }
   ],
   "source": [
    "# Создаём модель логистической регресии с параметрами по умолчанию (учитывая ограничения на итерации)\n",
    "log_reg = linear_model.LogisticRegression(max_iter=50, random_state=42)\n",
    "\n",
    "# Обучаем модель\n",
    "log_reg.fit(X_train, y_train)\n",
    "# Делаем предсказание на тестовой выборке и выводим значение метрики\n",
    "y_test_pred = log_reg.predict(X_test)\n",
    "print('F1-score на тестовой выборке: {:.2f}'.format(metrics.f1_score(y_test, y_test_pred)))"
   ]
  },
  {
   "cell_type": "code",
   "execution_count": 18,
   "metadata": {},
   "outputs": [
    {
     "name": "stdout",
     "output_type": "stream",
     "text": [
      "F1-score на тестовой выборке: 0.79\n"
     ]
    }
   ],
   "source": [
    "# Создаём модель случайного леса с параметрами по умолчанию\n",
    "fr = ensemble.RandomForestClassifier(random_state=42)\n",
    "\n",
    "# Обучаем модель\n",
    "fr.fit(X_train, y_train)\n",
    "# Делаем предсказание на тестовой выборке и выводим значение метрики\n",
    "y_test_pred = fr.predict(X_test)\n",
    "print('F1-score на тестовой выборке: {:.2f}'.format(metrics.f1_score(y_test, y_test_pred)))"
   ]
  },
  {
   "cell_type": "markdown",
   "metadata": {},
   "source": [
    "# Базовая оптимизация"
   ]
  },
  {
   "cell_type": "markdown",
   "metadata": {},
   "source": [
    "## GridSearchCV"
   ]
  },
  {
   "cell_type": "markdown",
   "metadata": {},
   "source": [
    "### **Логистическая регрессия**"
   ]
  },
  {
   "cell_type": "code",
   "execution_count": 19,
   "metadata": {},
   "outputs": [
    {
     "name": "stdout",
     "output_type": "stream",
     "text": [
      "F1-score на валидационной наборе: 0.83\n",
      "Наилучшие значения гиперпараметров: {'C': 0.3, 'penalty': 'l1', 'solver': 'saga'}\n"
     ]
    }
   ],
   "source": [
    "# Импортируем класс 'GridSearchCV'\n",
    "from sklearn.model_selection import GridSearchCV\n",
    "\n",
    "# Указываем искомые гиперпараметры в виде списка словарей 'param_grid'\n",
    "param_grid = [\n",
    "              {'penalty': ['l2', None], # Тип регуляризации\n",
    "              'solver': ['lbfgs', 'sag'], # Алгоритм оптимизации\n",
    "              'C': [0.1, 0.3, 0.5, 0.7, 0.9, 1]}, # Уровень силы регурялизации\n",
    "              \n",
    "              {'penalty': ['l1', 'l2'] ,\n",
    "              'solver': ['liblinear', 'saga'],\n",
    "              'C': [0.1, 0.3, 0.5, 0.7, 0.9, 1]}\n",
    "]\n",
    "\n",
    "# Вызваем класс `GridSearchCV`\n",
    "log_grid_search = GridSearchCV(\n",
    "    estimator=linear_model.LogisticRegression(random_state=42, max_iter=50), # Передаём нашу модель (`LogisticRegression`)\n",
    "    param_grid=param_grid, # Сетку искомых параметров\n",
    "    cv=5, # Число фолдов для кросс-валидации\n",
    "    n_jobs = -1 # `n_jobs = -1`, чтобы использовать все доступные ядра для расчётов\n",
    ")  \n",
    "\n",
    "# Обучаем объект `GridSearchCV` на валидационной выборке\n",
    "log_grid_search.fit(X_valid, y_valid) \n",
    "# Делаем предсказание на валидационной выборке\n",
    "y_valid_pred = log_grid_search.predict(X_valid)\n",
    "# Выводим значения метрики и гиперпараметров\n",
    "print('F1-score на валидационной наборе: {:.2f}'.format(metrics.f1_score(y_valid, y_valid_pred)))\n",
    "print(\"Наилучшие значения гиперпараметров: {}\".format(log_grid_search.best_params_))"
   ]
  },
  {
   "cell_type": "code",
   "execution_count": 20,
   "metadata": {},
   "outputs": [
    {
     "name": "stdout",
     "output_type": "stream",
     "text": [
      "F1-score на тестовом наборе: 0.78\n"
     ]
    }
   ],
   "source": [
    "# Создаём и обучаем модель с полученными гиперпараметрами\n",
    "log_reg = linear_model.LogisticRegression(\n",
    "    C=0.3,\n",
    "    penalty='l1',\n",
    "    solver='saga',\n",
    "    random_state=42,\n",
    "    max_iter=50\n",
    ")\n",
    "log_reg.fit(X_train, y_train)\n",
    "\n",
    "# Делаем предсказание на тестовой выборке и выводим значение метрики\n",
    "y_test_pred = log_reg.predict(X_test)\n",
    "print('F1-score на тестовом наборе: {:.2f}'.format(metrics.f1_score(y_test, y_test_pred)))"
   ]
  },
  {
   "cell_type": "markdown",
   "metadata": {},
   "source": [
    "### **Случайный лес**"
   ]
  },
  {
   "cell_type": "code",
   "execution_count": 21,
   "metadata": {},
   "outputs": [
    {
     "name": "stdout",
     "output_type": "stream",
     "text": [
      "F1-score на валидационной наборе: 0.88\n",
      "Наилучшие значения гиперпараметров: {'max_depth': 6, 'min_samples_leaf': 5, 'n_estimators': 80}\n"
     ]
    }
   ],
   "source": [
    "# Зададим сетку гиперпараметров для 'RandomForestClassifier' \n",
    "param_grid = {'n_estimators': list(range(80, 200, 30)), # Количество деревьев в лесу\n",
    "              'min_samples_leaf': [5], # Минимальное количество объектов в листе\n",
    "              'max_depth': list(range(3, 15, 3)) # Максимальная глубина дерева\n",
    "}\n",
    "\n",
    "# Проводим шаги, аналогичные предыдущей модели\n",
    "rf_grid_search = GridSearchCV(\n",
    "    estimator=ensemble.RandomForestClassifier(random_state=42), \n",
    "    param_grid=param_grid, \n",
    "    cv=5,\n",
    "    n_jobs = -1\n",
    ")\n",
    "\n",
    "rf_grid_search.fit(X_valid, y_valid) \n",
    "y_valid_pred = rf_grid_search.predict(X_valid)\n",
    "print('F1-score на валидационной наборе: {:.2f}'.format(metrics.f1_score(y_valid, y_valid_pred)))\n",
    "print(\"Наилучшие значения гиперпараметров: {}\".format(rf_grid_search.best_params_))"
   ]
  },
  {
   "cell_type": "code",
   "execution_count": 22,
   "metadata": {},
   "outputs": [
    {
     "name": "stdout",
     "output_type": "stream",
     "text": [
      "F1-score на тестовом наборе: 0.78\n"
     ]
    }
   ],
   "source": [
    "# Создаём и обучаем модель с полученными гиперпараметрами\n",
    "rf = ensemble.RandomForestClassifier(max_depth=6, min_samples_leaf=5, n_estimators=80, random_state=42)\n",
    "rf.fit(X_train, y_train)\n",
    "\n",
    "# Делаем предсказание на тестовой выборке и выводим значение метрики\n",
    "y_test_pred = rf.predict(X_test)\n",
    "print('F1-score на тестовом наборе: {:.2f}'.format(metrics.f1_score(y_test, y_test_pred)))"
   ]
  },
  {
   "cell_type": "markdown",
   "metadata": {},
   "source": [
    "## RandomizedSearchCV"
   ]
  },
  {
   "cell_type": "markdown",
   "metadata": {},
   "source": [
    "### **Логистическая регрессия**"
   ]
  },
  {
   "cell_type": "code",
   "execution_count": 23,
   "metadata": {},
   "outputs": [
    {
     "name": "stdout",
     "output_type": "stream",
     "text": [
      "F1-score на валидационной наборе: 0.82\n",
      "Наилучшие значения гиперпараметров: {'solver': 'liblinear', 'penalty': 'l1', 'C': np.float64(0.23)}\n"
     ]
    }
   ],
   "source": [
    "# Импортируем класс 'RandomizedSearchCV'\n",
    "from sklearn.model_selection import RandomizedSearchCV\n",
    "\n",
    "# Указываем искомые гиперпараметры в виде списка словарей 'param_distributions'\n",
    "param_distributions = [\n",
    "                       {'penalty': ['l2', None] , # Тип регуляризации\n",
    "                       'solver': ['lbfgs', 'sag'], # Алгоритм оптимизации\n",
    "                       'C': list(np.linspace(0.01, 1, 10, dtype=float))}, # Уровень силы регурялизации\n",
    "              \n",
    "                       {'penalty': ['l1', 'l2'] ,\n",
    "                       'solver': ['liblinear', 'saga'],\n",
    "                       'C': list(np.linspace(0.01, 1, 10, dtype=float))}\n",
    "]\n",
    "\n",
    "# Вызваем класс `RandomizedSearchCV`\n",
    "log_random_search = RandomizedSearchCV(\n",
    "    estimator=linear_model.LogisticRegression(random_state=42, max_iter=50), # Передаём нашу модель (`LogisticRegression`)\n",
    "    param_distributions=param_distributions, # Сетку искомых параметров\n",
    "    cv=5, # Число фолдов для кросс-валидации\n",
    "    n_iter = 25, # Количество комбинаций на расчёт\n",
    "    n_jobs = -1, # `n_jobs = -1`, чтобы использовать все доступные ядра для расчётов\n",
    "    random_state=6 # Фиксируем результаты для каждого запуска\n",
    ")  \n",
    " \n",
    "# Обучаем объект `RandomizedSearchCV` на валидационной выборке\n",
    "log_random_search.fit(X_valid, y_valid) \n",
    "# Делаем предсказание на валидационной выборке\n",
    "y_valid_pred = log_random_search.predict(X_valid)\n",
    "# Выводим значения метрики и гиперпараметров\n",
    "print('F1-score на валидационной наборе: {:.2f}'.format(metrics.f1_score(y_valid, y_valid_pred)))\n",
    "print(\"Наилучшие значения гиперпараметров: {}\".format(log_random_search.best_params_))"
   ]
  },
  {
   "cell_type": "code",
   "execution_count": 24,
   "metadata": {},
   "outputs": [
    {
     "name": "stdout",
     "output_type": "stream",
     "text": [
      "F1-score на тестовом наборе: 0.79\n"
     ]
    }
   ],
   "source": [
    "# Создаём и обучаем модель с полученными гиперпараметрами\n",
    "log_reg = linear_model.LogisticRegression(\n",
    "    solver='liblinear',\n",
    "    penalty='l1',\n",
    "    C=0.23,\n",
    "    random_state=42,\n",
    "    max_iter=50\n",
    ")\n",
    "log_reg.fit(X_train, y_train)\n",
    "\n",
    "# Делаем предсказание на тестовой выборке и выводим значение метрики\n",
    "y_test_pred = log_reg.predict(X_test)\n",
    "print('F1-score на тестовом наборе: {:.2f}'.format(metrics.f1_score(y_test, y_test_pred)))"
   ]
  },
  {
   "cell_type": "markdown",
   "metadata": {},
   "source": [
    "### **Случайный лес**"
   ]
  },
  {
   "cell_type": "code",
   "execution_count": 16,
   "metadata": {},
   "outputs": [
    {
     "name": "stdout",
     "output_type": "stream",
     "text": [
      "F1-score на валидационной наборе: 0.88\n",
      "Наилучшие значения гиперпараметров: {'n_estimators': 80, 'min_samples_leaf': 5, 'max_depth': 6}\n"
     ]
    }
   ],
   "source": [
    "# Зададим сетку гиперпараметров для 'RandomForestClassifier' \n",
    "param_distributions = {'n_estimators': list(range(80, 200, 30)), # Количество деревьев в лесу\n",
    "                       'min_samples_leaf': [5], # Минимальное количество объектов в листе\n",
    "                       'max_depth': list(range(3, 15, 3)) # Максимальная глубина дерева\n",
    "}\n",
    "\n",
    "# Проводим шаги, аналогичные предыдущей модели\n",
    "rf_random_search = RandomizedSearchCV(\n",
    "    estimator=ensemble.RandomForestClassifier(random_state=42), \n",
    "    param_distributions=param_distributions, \n",
    "    cv=5,\n",
    "    n_iter = 25,\n",
    "    n_jobs = -1,\n",
    "    random_state=6\n",
    ")\n",
    "\n",
    "rf_random_search.fit(X_valid, y_valid) \n",
    "y_valid_pred = rf_random_search.predict(X_valid)\n",
    "print('F1-score на валидационной наборе: {:.2f}'.format(metrics.f1_score(y_valid, y_valid_pred)))\n",
    "print(\"Наилучшие значения гиперпараметров: {}\".format(rf_random_search.best_params_))"
   ]
  },
  {
   "cell_type": "code",
   "execution_count": 17,
   "metadata": {},
   "outputs": [
    {
     "name": "stdout",
     "output_type": "stream",
     "text": [
      "F1-score на тестовом наборе: 0.78\n"
     ]
    }
   ],
   "source": [
    "# Создаём и обучаем модель с полученными гиперпараметрами\n",
    "rf = ensemble.RandomForestClassifier(n_estimators=80, min_samples_leaf=5, max_depth=6, random_state=42)\n",
    "rf.fit(X_train, y_train)\n",
    "\n",
    "# Делаем предсказание на тестовой выборке и выводим значение метрики\n",
    "y_test_pred = rf.predict(X_test)\n",
    "print('F1-score на тестовом наборе: {:.2f}'.format(metrics.f1_score(y_test, y_test_pred)))"
   ]
  },
  {
   "cell_type": "markdown",
   "metadata": {},
   "source": [
    "# Продвинутая оптимизация"
   ]
  },
  {
   "cell_type": "markdown",
   "metadata": {},
   "source": [
    "## Hyperopt"
   ]
  },
  {
   "cell_type": "markdown",
   "metadata": {},
   "source": [
    "### **Логистическая регрессия**"
   ]
  },
  {
   "cell_type": "code",
   "execution_count": 25,
   "metadata": {},
   "outputs": [],
   "source": [
    "# Проводим импорт необходимых модулей и функций\n",
    "from sklearn.model_selection import cross_val_score\n",
    "import hyperopt\n",
    "from hyperopt import hp, fmin, tpe\n",
    "# fmin - основная функция, она будет минимизировать наш функционал\n",
    "# tpe - алгоритм оптимизации\n",
    "# hp - включает набор методов для объявления пространства поиска гиперпараметров"
   ]
  },
  {
   "cell_type": "code",
   "execution_count": 26,
   "metadata": {},
   "outputs": [
    {
     "name": "stdout",
     "output_type": "stream",
     "text": [
      "100%|██████████| 25/25 [00:11<00:00,  2.11trial/s, best loss: -0.7592942658386537]\n",
      "Наилучшие значения гиперпараметров {'C': np.float64(0.30302818618198823), 'penalty': np.int64(0), 'solver': np.int64(1)}\n"
     ]
    }
   ],
   "source": [
    "# Зададим пространство поиска гиперпараметров\n",
    "space= {'penalty': hp.choice('penalty', ['l1', 'l2']) ,\n",
    "        'solver': hp.choice('solver', ['liblinear', 'saga']),\n",
    "        'C': hp.uniform('C', 0.01, 1)\n",
    "}\n",
    "\n",
    "# Зафиксируем random_state\n",
    "random_state = 42\n",
    "\n",
    "# Функция 'log_hyperopt' получает комбинацию гиперпараметров в 'params'\n",
    "def log_hyperopt(params, cv=5, X=X_valid, y=y_valid, random_state=random_state):\n",
    "       params = {'penalty': params['penalty'],\n",
    "                 'solver': params['solver'],\n",
    "                 'C': float(params['C'])\n",
    "}\n",
    "       # Используем эту комбинацию для построения модели\n",
    "       model = linear_model.LogisticRegression(**params, random_state=random_state, max_iter=50)\n",
    "       # Обучаем модель\n",
    "       model.fit(X, y)\n",
    "       # Применяем `cross validation` с тем же количеством фолдов\n",
    "       score = cross_val_score(model, X, y, cv=cv, scoring='f1', n_jobs=-1).mean()\n",
    "       # Возвращаем метрику, которую необходимо минимизировать, так же поэтому ставим знак минус\n",
    "       return -score\n",
    "\n",
    "# Начинаем подбор гиперпараметров\n",
    "best=fmin(log_hyperopt, # Наша функция \n",
    "          space=space, # Пространство гиперпараметров\n",
    "          algo=tpe.suggest, # Алгоритм оптимизации, установлен по умолчанию, задавать необязательно\n",
    "          max_evals=25, # Максимальное количество итераций\n",
    "          rstate=np.random.default_rng(random_state) # Фиксируем 'random_state' для повторяемости результата\n",
    ")\n",
    "# Выводим значения найденных гиперпараметров\n",
    "print(\"Наилучшие значения гиперпараметров {}\".format(best))"
   ]
  },
  {
   "cell_type": "code",
   "execution_count": 27,
   "metadata": {},
   "outputs": [
    {
     "name": "stdout",
     "output_type": "stream",
     "text": [
      "F1-score на тестовой выборке: 0.78\n"
     ]
    }
   ],
   "source": [
    "# Строим модель и рассчитываем точность для тестовой выборки\n",
    "log_model = linear_model.LogisticRegression(\n",
    "    C=float(best['C']),\n",
    "    penalty='l1',\n",
    "    solver='saga',\n",
    "    random_state=42,\n",
    "    max_iter=50\n",
    ")\n",
    "\n",
    "log_model.fit(X_train, y_train)\n",
    "y_test_pred = log_model.predict(X_test)\n",
    "print('F1-score на тестовой выборке: {:.2f}'.format(metrics.f1_score(y_test, y_test_pred)))"
   ]
  },
  {
   "cell_type": "markdown",
   "metadata": {},
   "source": [
    "### **Случайный лес**"
   ]
  },
  {
   "cell_type": "code",
   "execution_count": 28,
   "metadata": {},
   "outputs": [
    {
     "name": "stdout",
     "output_type": "stream",
     "text": [
      "100%|██████████| 25/25 [00:12<00:00,  1.97trial/s, best loss: -0.7399692507533627]\n",
      "Наилучшие значения гиперпараметров {'max_depth': np.float64(12.0), 'min_samples_leaf': np.int64(0), 'n_estimators': np.float64(90.0)}\n"
     ]
    }
   ],
   "source": [
    "# Все шаги описанные ниже аналогичны и для предыдущей модели, за исключением искомых параметров для модели\n",
    "space={'n_estimators': hp.quniform('n_estimators', 80, 200, 30),\n",
    "       'min_samples_leaf' : hp.choice('min_samples_leaf', [5]),\n",
    "       'max_depth': hp.quniform('max_depth', 3, 15, 3)\n",
    "}\n",
    "\n",
    "random_state = 42\n",
    "\n",
    "def rf_hyperopt(params, cv=5, X=X_valid, y=y_valid, random_state=random_state):\n",
    "    params = {'n_estimators': int(params['n_estimators']), \n",
    "              'max_depth': int(params['max_depth']), \n",
    "              'min_samples_leaf': params['min_samples_leaf']\n",
    "}\n",
    "    model = ensemble.RandomForestClassifier(**params, random_state=random_state)\n",
    "    model.fit(X, y)\n",
    "    score = cross_val_score(model, X, y, cv=cv, scoring=\"f1\", n_jobs=-1).mean()\n",
    "    return -score\n",
    "\n",
    "best=fmin(rf_hyperopt,\n",
    "          space=space,\n",
    "          algo=tpe.suggest,\n",
    "          max_evals=25,\n",
    "          rstate=np.random.default_rng(random_state)\n",
    ")\n",
    "print(\"Наилучшие значения гиперпараметров {}\".format(best))"
   ]
  },
  {
   "cell_type": "code",
   "execution_count": 29,
   "metadata": {},
   "outputs": [
    {
     "name": "stdout",
     "output_type": "stream",
     "text": [
      "F1-score на тестовом наборе: 0.80\n"
     ]
    }
   ],
   "source": [
    "rf = ensemble.RandomForestClassifier(\n",
    "    max_depth=int(best['max_depth']),\n",
    "    min_samples_leaf=5,\n",
    "    n_estimators=int(best['n_estimators']),\n",
    "    random_state=42\n",
    ")\n",
    "\n",
    "rf.fit(X_train, y_train)\n",
    "y_test_pred = rf.predict(X_test)\n",
    "print('F1-score на тестовом наборе: {:.2f}'.format(metrics.f1_score(y_test, y_test_pred)))"
   ]
  },
  {
   "cell_type": "markdown",
   "metadata": {},
   "source": [
    "## Optuna"
   ]
  },
  {
   "cell_type": "markdown",
   "metadata": {},
   "source": [
    "### **Логистическая регрессия**"
   ]
  },
  {
   "cell_type": "code",
   "execution_count": 30,
   "metadata": {},
   "outputs": [],
   "source": [
    "# Импортируем необходимый модуль \n",
    "import optuna"
   ]
  },
  {
   "cell_type": "code",
   "execution_count": 31,
   "metadata": {},
   "outputs": [
    {
     "name": "stderr",
     "output_type": "stream",
     "text": [
      "[I 2024-09-13 00:26:31,426] A new study created in memory with name: LogisticRegressionr\n",
      "[I 2024-09-13 00:26:32,007] Trial 0 finished with value: 0.7762601144129195 and parameters: {'penalty': 'l2', 'solver': 'liblinear', 'C': 0.8255370166285899}. Best is trial 0 with value: 0.7762601144129195.\n",
      "[I 2024-09-13 00:26:35,929] Trial 1 finished with value: 0.7872337094313107 and parameters: {'penalty': 'l1', 'solver': 'saga', 'C': 0.37295121186822944}. Best is trial 1 with value: 0.7872337094313107.\n",
      "[I 2024-09-13 00:26:38,875] Trial 2 finished with value: 0.778124187159875 and parameters: {'penalty': 'l2', 'solver': 'saga', 'C': 0.8920568871160849}. Best is trial 1 with value: 0.7872337094313107.\n",
      "[I 2024-09-13 00:26:41,594] Trial 3 finished with value: 0.784470703591708 and parameters: {'penalty': 'l2', 'solver': 'saga', 'C': 0.10773088132289133}. Best is trial 1 with value: 0.7872337094313107.\n",
      "[I 2024-09-13 00:26:44,356] Trial 4 finished with value: 0.7778286111586444 and parameters: {'penalty': 'l2', 'solver': 'saga', 'C': 0.7182087842905249}. Best is trial 1 with value: 0.7872337094313107.\n",
      "[I 2024-09-13 00:26:44,908] Trial 5 finished with value: 0.7782950913817335 and parameters: {'penalty': 'l2', 'solver': 'liblinear', 'C': 0.6897721047027547}. Best is trial 1 with value: 0.7872337094313107.\n",
      "[I 2024-09-13 00:26:45,168] Trial 6 finished with value: 0.7515876530999732 and parameters: {'penalty': 'l1', 'solver': 'liblinear', 'C': 0.020516410884685404}. Best is trial 1 with value: 0.7872337094313107.\n",
      "[I 2024-09-13 00:26:49,107] Trial 7 finished with value: 0.7850549385869494 and parameters: {'penalty': 'l1', 'solver': 'saga', 'C': 0.4598973194467055}. Best is trial 1 with value: 0.7872337094313107.\n",
      "[I 2024-09-13 00:26:49,628] Trial 8 finished with value: 0.7782197209991246 and parameters: {'penalty': 'l2', 'solver': 'liblinear', 'C': 0.46688770061455426}. Best is trial 1 with value: 0.7872337094313107.\n",
      "[I 2024-09-13 00:26:50,201] Trial 9 finished with value: 0.7784838550934782 and parameters: {'penalty': 'l2', 'solver': 'liblinear', 'C': 0.6862013016278852}. Best is trial 1 with value: 0.7872337094313107.\n",
      "[I 2024-09-13 00:26:54,085] Trial 10 finished with value: 0.7865334838189495 and parameters: {'penalty': 'l1', 'solver': 'saga', 'C': 0.2836181548061416}. Best is trial 1 with value: 0.7872337094313107.\n",
      "[I 2024-09-13 00:26:57,944] Trial 11 finished with value: 0.7879145285642697 and parameters: {'penalty': 'l1', 'solver': 'saga', 'C': 0.24701252447818778}. Best is trial 11 with value: 0.7879145285642697.\n",
      "[I 2024-09-13 00:27:01,681] Trial 12 finished with value: 0.7883094355053595 and parameters: {'penalty': 'l1', 'solver': 'saga', 'C': 0.23298087786540236}. Best is trial 12 with value: 0.7883094355053595.\n",
      "[I 2024-09-13 00:27:05,411] Trial 13 finished with value: 0.7877261191342075 and parameters: {'penalty': 'l1', 'solver': 'saga', 'C': 0.22065650966786537}. Best is trial 12 with value: 0.7883094355053595.\n",
      "[I 2024-09-13 00:27:09,108] Trial 14 finished with value: 0.7876346429247969 and parameters: {'penalty': 'l1', 'solver': 'saga', 'C': 0.19243367547260815}. Best is trial 12 with value: 0.7883094355053595.\n",
      "[I 2024-09-13 00:27:12,987] Trial 15 finished with value: 0.7862445401142092 and parameters: {'penalty': 'l1', 'solver': 'saga', 'C': 0.2931453769917972}. Best is trial 12 with value: 0.7883094355053595.\n",
      "[I 2024-09-13 00:27:16,956] Trial 16 finished with value: 0.7844313789462418 and parameters: {'penalty': 'l1', 'solver': 'saga', 'C': 0.5702845042140463}. Best is trial 12 with value: 0.7883094355053595.\n",
      "[I 2024-09-13 00:27:18,369] Trial 17 finished with value: 0.7522687790497345 and parameters: {'penalty': 'l1', 'solver': 'saga', 'C': 0.020298913040229016}. Best is trial 12 with value: 0.7883094355053595.\n",
      "[I 2024-09-13 00:27:22,305] Trial 18 finished with value: 0.787930514715826 and parameters: {'penalty': 'l1', 'solver': 'saga', 'C': 0.3850033293013261}. Best is trial 12 with value: 0.7883094355053595.\n",
      "[I 2024-09-13 00:27:26,275] Trial 19 finished with value: 0.7870478658631141 and parameters: {'penalty': 'l1', 'solver': 'saga', 'C': 0.3782295184169785}. Best is trial 12 with value: 0.7883094355053595.\n",
      "[I 2024-09-13 00:27:29,897] Trial 20 finished with value: 0.7836212563377754 and parameters: {'penalty': 'l1', 'solver': 'saga', 'C': 0.13097892577704823}. Best is trial 12 with value: 0.7883094355053595.\n",
      "[I 2024-09-13 00:27:33,864] Trial 21 finished with value: 0.7876752079103231 and parameters: {'penalty': 'l1', 'solver': 'saga', 'C': 0.3459522865548264}. Best is trial 12 with value: 0.7883094355053595.\n",
      "[I 2024-09-13 00:27:37,506] Trial 22 finished with value: 0.7878559853592296 and parameters: {'penalty': 'l1', 'solver': 'saga', 'C': 0.20885997204644668}. Best is trial 12 with value: 0.7883094355053595.\n",
      "[I 2024-09-13 00:27:41,559] Trial 23 finished with value: 0.7842309903937591 and parameters: {'penalty': 'l1', 'solver': 'saga', 'C': 0.5538797771263836}. Best is trial 12 with value: 0.7883094355053595.\n",
      "[I 2024-09-13 00:27:45,467] Trial 24 finished with value: 0.7858928569950919 and parameters: {'penalty': 'l1', 'solver': 'saga', 'C': 0.4151260474700583}. Best is trial 12 with value: 0.7883094355053595.\n"
     ]
    }
   ],
   "source": [
    "def log_optuna(trial):\n",
    "    # Задаём пространства поиска гиперпараметров\n",
    "    penalty = trial.suggest_categorical('penalty', ['l1', 'l2'])\n",
    "    solver = trial.suggest_categorical('solver', ['liblinear', 'saga'])\n",
    "    C = trial.suggest_float('C', 0.01, 1)\n",
    "    cv=5\n",
    "    \n",
    "    # Создаём модель\n",
    "    model = linear_model.LogisticRegression(penalty=penalty,\n",
    "                                            solver=solver,\n",
    "                                            C=C,\n",
    "                                            random_state=42\n",
    ")\n",
    "    # Обучаем модель\n",
    "    model.fit(X_valid, y_valid)\n",
    "    score = cross_val_score(model, X, y, cv=cv, scoring=\"f1\", n_jobs=-1).mean()\n",
    "    return score\n",
    "\n",
    "# Создаём объект исследования\n",
    "# Напрямую указываем, что нам необходимо максимизировать метрику (direction='maximize')\n",
    "study = optuna.create_study(study_name=\"LogisticRegressionr\", direction=\"maximize\")\n",
    "\n",
    "# Ищем лучшую комбинацию гиперпараметров ('n_trials' раз)\n",
    "study.optimize(log_optuna, n_trials=25)"
   ]
  },
  {
   "cell_type": "code",
   "execution_count": 32,
   "metadata": {},
   "outputs": [
    {
     "name": "stdout",
     "output_type": "stream",
     "text": [
      "Наилучшие значения гиперпараметров {'penalty': 'l1', 'solver': 'saga', 'C': 0.23298087786540236}\n",
      "F1-score на валидационном наборе: 0.79\n"
     ]
    }
   ],
   "source": [
    "# Выводим результаты на валидационной выборке\n",
    "print(\"Наилучшие значения гиперпараметров {}\".format(study.best_params))\n",
    "print(\"F1-score на валидационном наборе: {:.2f}\".format(study.best_value))"
   ]
  },
  {
   "cell_type": "code",
   "execution_count": 33,
   "metadata": {},
   "outputs": [
    {
     "name": "stdout",
     "output_type": "stream",
     "text": [
      "F1-score на тестовой выборке: 0.78\n"
     ]
    }
   ],
   "source": [
    "# Рассчитываем точность для тестовой выборки\n",
    "log_model = linear_model.LogisticRegression(**study.best_params, random_state=random_state, max_iter=50)\n",
    "\n",
    "log_model.fit(X_train, y_train)\n",
    "y_test_pred = log_model.predict(X_test)\n",
    "print('F1-score на тестовой выборке: {:.2f}'.format(metrics.f1_score(y_test, y_test_pred)))"
   ]
  },
  {
   "cell_type": "markdown",
   "metadata": {},
   "source": [
    "### **Случайный лес**"
   ]
  },
  {
   "cell_type": "code",
   "execution_count": 34,
   "metadata": {},
   "outputs": [
    {
     "name": "stderr",
     "output_type": "stream",
     "text": [
      "[I 2024-09-13 00:30:56,051] A new study created in memory with name: RandomForestClassifier\n",
      "[I 2024-09-13 00:30:57,196] Trial 0 finished with value: 0.8044207100956383 and parameters: {'n_estimators': 110, 'min_samples_leaf': 5, 'max_depth': 12}. Best is trial 0 with value: 0.8044207100956383.\n",
      "[I 2024-09-13 00:30:58,103] Trial 1 finished with value: 0.8028055602792644 and parameters: {'n_estimators': 80, 'min_samples_leaf': 5, 'max_depth': 12}. Best is trial 0 with value: 0.8044207100956383.\n",
      "[I 2024-09-13 00:30:58,896] Trial 2 finished with value: 0.7729045248570217 and parameters: {'n_estimators': 110, 'min_samples_leaf': 5, 'max_depth': 6}. Best is trial 0 with value: 0.8044207100956383.\n",
      "[I 2024-09-13 00:30:59,884] Trial 3 finished with value: 0.7729045248570217 and parameters: {'n_estimators': 110, 'min_samples_leaf': 5, 'max_depth': 6}. Best is trial 0 with value: 0.8044207100956383.\n",
      "[I 2024-09-13 00:31:01,551] Trial 4 finished with value: 0.7963789045354572 and parameters: {'n_estimators': 200, 'min_samples_leaf': 5, 'max_depth': 9}. Best is trial 0 with value: 0.8044207100956383.\n",
      "[I 2024-09-13 00:31:02,565] Trial 5 finished with value: 0.7974240390969428 and parameters: {'n_estimators': 110, 'min_samples_leaf': 5, 'max_depth': 9}. Best is trial 0 with value: 0.8044207100956383.\n",
      "[I 2024-09-13 00:31:03,724] Trial 6 finished with value: 0.8044207100956383 and parameters: {'n_estimators': 110, 'min_samples_leaf': 5, 'max_depth': 12}. Best is trial 0 with value: 0.8044207100956383.\n",
      "[I 2024-09-13 00:31:04,454] Trial 7 finished with value: 0.7427830104236033 and parameters: {'n_estimators': 170, 'min_samples_leaf': 5, 'max_depth': 3}. Best is trial 0 with value: 0.8044207100956383.\n",
      "[I 2024-09-13 00:31:05,304] Trial 8 finished with value: 0.740749186604382 and parameters: {'n_estimators': 140, 'min_samples_leaf': 5, 'max_depth': 3}. Best is trial 0 with value: 0.8044207100956383.\n",
      "[I 2024-09-13 00:31:07,552] Trial 9 finished with value: 0.8091055920013123 and parameters: {'n_estimators': 200, 'min_samples_leaf': 5, 'max_depth': 15}. Best is trial 9 with value: 0.8091055920013123.\n",
      "[I 2024-09-13 00:31:09,575] Trial 10 finished with value: 0.8091055920013123 and parameters: {'n_estimators': 200, 'min_samples_leaf': 5, 'max_depth': 15}. Best is trial 9 with value: 0.8091055920013123.\n",
      "[I 2024-09-13 00:31:11,612] Trial 11 finished with value: 0.8091055920013123 and parameters: {'n_estimators': 200, 'min_samples_leaf': 5, 'max_depth': 15}. Best is trial 9 with value: 0.8091055920013123.\n",
      "[I 2024-09-13 00:31:13,581] Trial 12 finished with value: 0.8078091081453355 and parameters: {'n_estimators': 170, 'min_samples_leaf': 5, 'max_depth': 15}. Best is trial 9 with value: 0.8091055920013123.\n",
      "[I 2024-09-13 00:31:15,327] Trial 13 finished with value: 0.8078091081453355 and parameters: {'n_estimators': 170, 'min_samples_leaf': 5, 'max_depth': 15}. Best is trial 9 with value: 0.8091055920013123.\n",
      "[I 2024-09-13 00:31:17,360] Trial 14 finished with value: 0.8091055920013123 and parameters: {'n_estimators': 200, 'min_samples_leaf': 5, 'max_depth': 15}. Best is trial 9 with value: 0.8091055920013123.\n",
      "[I 2024-09-13 00:31:19,015] Trial 15 finished with value: 0.8044038673718401 and parameters: {'n_estimators': 170, 'min_samples_leaf': 5, 'max_depth': 12}. Best is trial 9 with value: 0.8091055920013123.\n",
      "[I 2024-09-13 00:31:21,064] Trial 16 finished with value: 0.8091055920013123 and parameters: {'n_estimators': 200, 'min_samples_leaf': 5, 'max_depth': 15}. Best is trial 9 with value: 0.8091055920013123.\n",
      "[I 2024-09-13 00:31:22,475] Trial 17 finished with value: 0.8050568773552133 and parameters: {'n_estimators': 140, 'min_samples_leaf': 5, 'max_depth': 12}. Best is trial 9 with value: 0.8091055920013123.\n",
      "[I 2024-09-13 00:31:24,121] Trial 18 finished with value: 0.7963789045354572 and parameters: {'n_estimators': 200, 'min_samples_leaf': 5, 'max_depth': 9}. Best is trial 9 with value: 0.8091055920013123.\n",
      "[I 2024-09-13 00:31:25,879] Trial 19 finished with value: 0.8078091081453355 and parameters: {'n_estimators': 170, 'min_samples_leaf': 5, 'max_depth': 15}. Best is trial 9 with value: 0.8091055920013123.\n",
      "[I 2024-09-13 00:31:27,121] Trial 20 finished with value: 0.7988213979733338 and parameters: {'n_estimators': 140, 'min_samples_leaf': 5, 'max_depth': 9}. Best is trial 9 with value: 0.8091055920013123.\n",
      "[I 2024-09-13 00:31:29,155] Trial 21 finished with value: 0.8091055920013123 and parameters: {'n_estimators': 200, 'min_samples_leaf': 5, 'max_depth': 15}. Best is trial 9 with value: 0.8091055920013123.\n",
      "[I 2024-09-13 00:31:31,191] Trial 22 finished with value: 0.8091055920013123 and parameters: {'n_estimators': 200, 'min_samples_leaf': 5, 'max_depth': 15}. Best is trial 9 with value: 0.8091055920013123.\n",
      "[I 2024-09-13 00:31:33,216] Trial 23 finished with value: 0.8091055920013123 and parameters: {'n_estimators': 200, 'min_samples_leaf': 5, 'max_depth': 15}. Best is trial 9 with value: 0.8091055920013123.\n",
      "[I 2024-09-13 00:31:34,889] Trial 24 finished with value: 0.8044038673718401 and parameters: {'n_estimators': 170, 'min_samples_leaf': 5, 'max_depth': 12}. Best is trial 9 with value: 0.8091055920013123.\n"
     ]
    }
   ],
   "source": [
    "# Все шаги описанные ниже аналогичны и для предыдущей модели, за исключением искомых параметров для модели\n",
    "def rf_optuna(trial):\n",
    "  n_estimators = trial.suggest_int('n_estimators', 80, 200, 30)\n",
    "  min_samples_leaf = trial.suggest_categorical('min_samples_leaf', [5])\n",
    "  max_depth = trial.suggest_int('max_depth', 3, 15, 3)\n",
    "  cv=5\n",
    "\n",
    "  model = ensemble.RandomForestClassifier(n_estimators=n_estimators,\n",
    "                                          max_depth=max_depth,\n",
    "                                          min_samples_leaf=min_samples_leaf,\n",
    "                                          random_state=42\n",
    ")\n",
    "  \n",
    "  model.fit(X_valid, y_valid)\n",
    "  score = cross_val_score(model, X, y, cv=cv, scoring=\"f1\", n_jobs=-1).mean()\n",
    "  return score\n",
    "\n",
    "study = optuna.create_study(study_name=\"RandomForestClassifier\", direction=\"maximize\")\n",
    "study.optimize(rf_optuna, n_trials=25)"
   ]
  },
  {
   "cell_type": "code",
   "execution_count": 35,
   "metadata": {},
   "outputs": [
    {
     "name": "stdout",
     "output_type": "stream",
     "text": [
      "Наилучшие значения гиперпараметров {'n_estimators': 200, 'min_samples_leaf': 5, 'max_depth': 15}\n",
      "F1-score на валидационном наборе: 0.81\n"
     ]
    }
   ],
   "source": [
    "print(\"Наилучшие значения гиперпараметров {}\".format(study.best_params))\n",
    "print(\"F1-score на валидационном наборе: {:.2f}\".format(study.best_value))"
   ]
  },
  {
   "cell_type": "code",
   "execution_count": 36,
   "metadata": {},
   "outputs": [
    {
     "name": "stdout",
     "output_type": "stream",
     "text": [
      "F1-score на тестовом наборе: 0.79\n"
     ]
    }
   ],
   "source": [
    "rf = ensemble.RandomForestClassifier(**study.best_params, random_state=42)\n",
    "\n",
    "rf.fit(X_train, y_train)\n",
    "y_test_pred = rf.predict(X_test)\n",
    "print('F1-score на тестовом наборе: {:.2f}'.format(metrics.f1_score(y_test, y_test_pred)))"
   ]
  },
  {
   "cell_type": "markdown",
   "metadata": {},
   "source": [
    "# Выводы по оптимизации гиперпараметров моделей "
   ]
  },
  {
   "cell_type": "markdown",
   "metadata": {},
   "source": [
    "На основании проведённого подбора гиперпараметров для моделей 4 раными способами, наилучшее значение целевой метрики было достигнуто `Hyperopt` для модели случайного леса (`RandomForestClassifier`) — 0.80, cо следующими значениями параметров:\n",
    "\n",
    "* `max_depth` (максимальная глубина 'дерева') — 12\n",
    "\n",
    "* `min_samples_leaf` (минимальное количество объектов в 'листе') — 5\n",
    "\n",
    "* `n_estimators` (количество 'деревьев в лесу') — 90.0\n",
    "\n",
    "Таким образом модель с данным набором параметров одинаково хорошо отделяет классы друг от друга и обнаруживает класс 1 вообще, то есть находит большинство объектов, принадлежащих к классу 1."
   ]
  }
 ],
 "metadata": {
  "kernelspec": {
   "display_name": "Python 3",
   "language": "python",
   "name": "python3"
  },
  "language_info": {
   "codemirror_mode": {
    "name": "ipython",
    "version": 3
   },
   "file_extension": ".py",
   "mimetype": "text/x-python",
   "name": "python",
   "nbconvert_exporter": "python",
   "pygments_lexer": "ipython3",
   "version": "3.12.4"
  }
 },
 "nbformat": 4,
 "nbformat_minor": 2
}
